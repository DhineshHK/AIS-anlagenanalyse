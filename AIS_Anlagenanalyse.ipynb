{
  "cells": [
    {
      "cell_type": "markdown",
      "metadata": {
        "id": "gzo104-9J69o"
      },
      "source": [
        "# AIS Management GmbH – Technische Anlagenanalyse\n",
        "\n",
        "**Ziele:**\n",
        "- Vollständigkeitsprüfung der Kundendatei anhand von Beispielobjekten\n",
        "- Zuordnung von Artikelnummern aus dem EP-Katalog\n"
      ],
      "id": "gzo104-9J69o"
    },
    {
      "cell_type": "code",
      "execution_count": 1,
      "metadata": {
        "id": "usCg0TM9J69v"
      },
      "outputs": [],
      "source": [
        "# Import libraries\n",
        "import pandas as pd\n",
        "import difflib\n",
        "from collections import defaultdict"
      ],
      "id": "usCg0TM9J69v"
    },
    {
      "cell_type": "code",
      "execution_count": 2,
      "metadata": {
        "id": "V7RSUiBDJ69x"
      },
      "outputs": [],
      "source": [
        "# Import excel data\n",
        "kundendatei = pd.read_excel(\"Kundendatei.xlsx\", sheet_name=\"Kundenobjekte\")\n",
        "ep_katalog = pd.read_excel(\"EP_Katalog.xlsx\", sheet_name=\"EP Liste\")\n",
        "beispielobjekte = pd.read_excel(\"Beispielobjekte.xlsx\", sheet_name=\"Anlagen\")"
      ],
      "id": "V7RSUiBDJ69x"
    },
    {
      "cell_type": "code",
      "execution_count": 3,
      "metadata": {
        "id": "ZvrA22_0J69y"
      },
      "outputs": [],
      "source": [
        "# Clean up data\n",
        "kundendatei = kundendatei[[\"WirtEinh\", \"EQ-Bezeichnung\", \"EQ-Klasse-Bezeichnung\", \"EQ-Menge\"]].dropna(subset=[\"EQ-Bezeichnung\"])\n",
        "kundendatei.columns = [\"Gebaeude\", \"Anlagenname\", \"Klasse\", \"Menge\"]\n",
        "kundendatei[\"Anlagenname_clean\"] = kundendatei[\"Anlagenname\"].str.lower().str.strip()\n",
        "\n",
        "beispielobjekte = beispielobjekte[[\"Gebäude-ID\", \"Anlagenname\", \"Kostengruppenbezeichnung\"]].dropna(subset=[\"Anlagenname\"])\n",
        "beispielobjekte.columns = [\"Gebaeude\", \"Anlagenname\", \"Kategorie\"]\n",
        "beispielobjekte[\"Anlagenname_clean\"] = beispielobjekte[\"Anlagenname\"].str.lower().str.strip()\n",
        "\n",
        "ep_katalog = ep_katalog[[\"Kurztext / Bezeichnung\", \"Artikelnummer\"]].dropna()\n",
        "ep_katalog.columns = [\"Bezeichnung\", \"Artikelnummer\"]\n",
        "ep_katalog[\"Bezeichnung_clean\"] = ep_katalog[\"Bezeichnung\"].str.lower().str.strip()"
      ],
      "id": "ZvrA22_0J69y"
    },
    {
      "cell_type": "code",
      "execution_count": 4,
      "metadata": {
        "colab": {
          "base_uri": "https://localhost:8080/"
        },
        "id": "C3ovpVGoJ69z",
        "outputId": "906f5d91-8427-4836-f0b9-029e1136b3e4"
      },
      "outputs": [
        {
          "output_type": "stream",
          "name": "stdout",
          "text": [
            "Gebäude 21083 fehlt 3269 Anlagen, z.B.: ['ns-unterverteiler aufzug 1', 'zirkulationspumpe', 'brandschutztüre stg. 1 4og', 'handfeuerlöscher 81', 'bst 3og stiegenhaus']\n",
            "Gebäude 28580 fehlt 3272 Anlagen, z.B.: ['ns-unterverteiler aufzug 1', 'zirkulationspumpe', 'brandschutztüre stg. 1 4og', 'handfeuerlöscher 81', 'bst 3og stiegenhaus']\n",
            "Gebäude 22225 fehlt 3272 Anlagen, z.B.: ['ns-unterverteiler aufzug 1', 'zirkulationspumpe', 'brandschutztüre stg. 1 4og', 'handfeuerlöscher 81', 'bst 3og stiegenhaus']\n"
          ]
        }
      ],
      "source": [
        "# completeness check\n",
        "reference_systems = set(beispielobjekte[\"Anlagenname_clean\"].unique())\n",
        "missing_by_building = defaultdict(list)\n",
        "\n",
        "for geb in kundendatei[\"Gebaeude\"].unique():\n",
        "    actual = set(kundendatei[kundendatei[\"Gebaeude\"] == geb][\"Anlagenname_clean\"])\n",
        "    missing = reference_systems - actual\n",
        "    missing_by_building[geb] = list(missing)\n",
        "\n",
        "# Example output\n",
        "for geb, fehlend in list(missing_by_building.items())[:3]:\n",
        "    print(f\"Gebäude {geb} fehlt {len(fehlend)} Anlagen, z.B.:\", fehlend[:5])"
      ],
      "id": "C3ovpVGoJ69z"
    },
    {
      "cell_type": "code",
      "execution_count": 5,
      "metadata": {
        "colab": {
          "base_uri": "https://localhost:8080/"
        },
        "id": "oKloOcHOJ69z",
        "outputId": "1fdea2a9-8051-49a9-871c-0e099c69d63c"
      },
      "outputs": [
        {
          "output_type": "stream",
          "name": "stdout",
          "text": [
            "✅ Ergebnis gespeichert unter: EP_Zuordnung_Ergebnis.xlsx\n"
          ]
        }
      ],
      "source": [
        "# EP assignment (best match)\n",
        "catalog_names = ep_katalog[\"Bezeichnung_clean\"].tolist()\n",
        "matches = []\n",
        "\n",
        "for _, row in kundendatei.iterrows():\n",
        "    name = row[\"Anlagenname_clean\"]\n",
        "    best_match = difflib.get_close_matches(name, catalog_names, n=1, cutoff=0.6)\n",
        "    if best_match:\n",
        "        match_row = ep_katalog[ep_katalog[\"Bezeichnung_clean\"] == best_match[0]].iloc[0]\n",
        "        matches.append({\n",
        "            \"Gebaeude\": row[\"Gebaeude\"],\n",
        "            \"Anlage\": row[\"Anlagenname\"],\n",
        "            \"EP-Bezeichnung\": match_row[\"Bezeichnung\"],\n",
        "            \"Artikelnummer\": match_row[\"Artikelnummer\"]\n",
        "        })\n",
        "    else:\n",
        "        matches.append({\n",
        "            \"Gebaeude\": row[\"Gebaeude\"],\n",
        "            \"Anlage\": row[\"Anlagenname\"],\n",
        "            \"EP-Bezeichnung\": \"Keine Übereinstimmung\",\n",
        "            \"Artikelnummer\": \"-\"\n",
        "        })\n",
        "\n",
        "ep_zuordnung_df = pd.DataFrame(matches)\n",
        "ep_zuordnung_df.to_excel(\"EP_Zuordnung_Ergebnis.xlsx\", index=False)\n",
        "print(\"Results saved as : EP_Zuordnung_Ergebnis.xlsx\")"
      ],
      "id": "oKloOcHOJ69z"
    }
  ],
  "metadata": {
    "kernelspec": {
      "display_name": "Python 3",
      "language": "python",
      "name": "python3"
    },
    "language_info": {
      "name": "python",
      "version": "3.9"
    },
    "colab": {
      "provenance": []
    }
  },
  "nbformat": 4,
  "nbformat_minor": 5
}